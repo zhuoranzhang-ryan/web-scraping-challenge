{
 "cells": [
  {
   "cell_type": "code",
   "execution_count": null,
   "metadata": {},
   "outputs": [],
   "source": [
    "import pandas as pd\n",
    "from bs4 import BeautifulSoup\n",
    "import requests\n",
    "import pymongo\n",
    "from splinter import Browser"
   ]
  },
  {
   "cell_type": "markdown",
   "metadata": {},
   "source": [
    "### Scarpe news info from NASA website"
   ]
  },
  {
   "cell_type": "code",
   "execution_count": null,
   "metadata": {},
   "outputs": [],
   "source": [
    "url_nasa = \"https://mars.nasa.gov/news/\"\n",
    "response_nasa = requests.get(url_nasa)\n",
    "soup_nasa = BeautifulSoup(response_nasa.text, 'html.parser')"
   ]
  },
  {
   "cell_type": "code",
   "execution_count": null,
   "metadata": {},
   "outputs": [],
   "source": [
    "news_title = soup_nasa.find('div', class_='content_title').text.strip()\n",
    "news_p = soup_nasa.find('div', class_='rollover_description_inner').text.strip()\n",
    "print('News title: ', news_title)\n",
    "print('News paragraph: ', news_p)"
   ]
  },
  {
   "cell_type": "markdown",
   "metadata": {},
   "source": [
    "### Use splinter to navigate page for featured image"
   ]
  },
  {
   "cell_type": "code",
   "execution_count": null,
   "metadata": {},
   "outputs": [],
   "source": [
    "executable_path = {'executable_path': r'C:\\bin\\chromedriver.exe'}\n",
    "browser = Browser('chrome', **executable_path, headless=False)"
   ]
  },
  {
   "cell_type": "code",
   "execution_count": null,
   "metadata": {},
   "outputs": [],
   "source": [
    "url_jpl = \"https://www.jpl.nasa.gov/spaceimages/?search=&category=Mars\"\n",
    "browser.visit(url_jpl)\n",
    "browser.click_link_by_partial_text('FULL IMAGE')\n",
    "browser.click_link_by_partial_href('/spaceimages/details')"
   ]
  },
  {
   "cell_type": "code",
   "execution_count": null,
   "metadata": {},
   "outputs": [],
   "source": [
    "html_jpl = browser.html\n",
    "soup_jpl = BeautifulSoup(html_jpl, 'html.parser')"
   ]
  },
  {
   "cell_type": "code",
   "execution_count": null,
   "metadata": {},
   "outputs": [],
   "source": [
    "featured_image_url = 'https://www.jpl.nasa.gov/' + soup_jpl.find('img', class_=\"main_image\")['src']"
   ]
  },
  {
   "cell_type": "markdown",
   "metadata": {},
   "source": [
    "### Scrape Mars Weather twitter"
   ]
  },
  {
   "cell_type": "code",
   "execution_count": null,
   "metadata": {},
   "outputs": [],
   "source": [
    "url_twtr = 'https://twitter.com/marswxreport?lang=en'\n",
    "response_twtr = requests.get(url_twtr)\n",
    "soup_twtr = BeautifulSoup(response_twtr.text, 'html.parser')"
   ]
  },
  {
   "cell_type": "code",
   "execution_count": null,
   "metadata": {},
   "outputs": [],
   "source": [
    "mars_weathers = soup_twtr.find_all('p', class_=\"TweetTextSize\")\n",
    "for tweet in mars_weathers:\n",
    "    tweet.find('a').extract()\n",
    "    if 'InSight sol' in tweet.text:\n",
    "        mars_weather = tweet.text\n",
    "        break"
   ]
  },
  {
   "cell_type": "code",
   "execution_count": null,
   "metadata": {},
   "outputs": [],
   "source": [
    "print(f'Mars weather:\\n{mars_weather}')"
   ]
  },
  {
   "cell_type": "markdown",
   "metadata": {},
   "source": [
    "### Scrape Mars Facts"
   ]
  },
  {
   "cell_type": "code",
   "execution_count": null,
   "metadata": {},
   "outputs": [],
   "source": [
    "url_fact = 'https://space-facts.com/mars/'\n",
    "tables = pd.read_html(url_fact)"
   ]
  },
  {
   "cell_type": "code",
   "execution_count": null,
   "metadata": {},
   "outputs": [],
   "source": [
    "df_mars = tables[0]\n",
    "# df_mars.set_index([0])\n",
    "# df_mars.to_html('Resources/mars_table.html', header=False, index=False)"
   ]
  },
  {
   "cell_type": "code",
   "execution_count": null,
   "metadata": {},
   "outputs": [],
   "source": [
    "# Store table data into a list of two-element list, which will be looped through during html table rendering.\n",
    "mars_facts = []\n",
    "for i in range(len(df_mars[0])):\n",
    "    mars_facts.append([df_mars[0][i], df_mars[1][i]])\n",
    "mars_facts"
   ]
  },
  {
   "cell_type": "markdown",
   "metadata": {},
   "source": [
    "### Scrape Mars Hemispheres"
   ]
  },
  {
   "cell_type": "code",
   "execution_count": null,
   "metadata": {},
   "outputs": [],
   "source": [
    "url_hemi = 'https://astrogeology.usgs.gov/search/results?q=hemisphere+enhanced&k1=target&v1=Mars'\n",
    "response_hemi = requests.get(url_hemi)"
   ]
  },
  {
   "cell_type": "code",
   "execution_count": null,
   "metadata": {},
   "outputs": [],
   "source": [
    "soup_hemi = BeautifulSoup(response_hemi.text, 'html.parser')"
   ]
  },
  {
   "cell_type": "code",
   "execution_count": null,
   "metadata": {},
   "outputs": [],
   "source": [
    "# find all the titles\n",
    "results = soup_hemi.find_all('div', class_=\"description\")\n",
    "hemisphere_image_urls = []\n",
    "info = {}\n",
    "\n",
    "# open url_hemi with splinter\n",
    "browser_hemi = Browser('chrome', **executable_path, headless=False)\n",
    "\n",
    "\n",
    "for result in results:\n",
    "\n",
    "    title = result.text\n",
    "    \n",
    "    browser_hemi.visit(url_hemi)\n",
    "    browser_hemi.click_link_by_partial_text(title)\n",
    "    html_img = browser_hemi.html\n",
    "    soup_img = BeautifulSoup(html_img, 'html.parser')\n",
    "\n",
    "    img_url = soup_img.find('li').a['href']\n",
    "    \n",
    "    info[\"title\"] = title\n",
    "    info[\"img_url\"] = img_url\n",
    "    \n",
    "    hemisphere_image_urls.append(info)\n",
    "    info = {}\n",
    "    "
   ]
  },
  {
   "cell_type": "code",
   "execution_count": null,
   "metadata": {},
   "outputs": [],
   "source": [
    "hemisphere_image_urls"
   ]
  }
 ],
 "metadata": {
  "kernelspec": {
   "display_name": "Python 3",
   "language": "python",
   "name": "python3"
  },
  "language_info": {
   "codemirror_mode": {
    "name": "ipython",
    "version": 3
   },
   "file_extension": ".py",
   "mimetype": "text/x-python",
   "name": "python",
   "nbconvert_exporter": "python",
   "pygments_lexer": "ipython3",
   "version": "3.6.10"
  }
 },
 "nbformat": 4,
 "nbformat_minor": 4
}
